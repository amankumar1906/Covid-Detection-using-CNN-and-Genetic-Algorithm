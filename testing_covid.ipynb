{
  "nbformat": 4,
  "nbformat_minor": 0,
  "metadata": {
    "colab": {
      "name": "testing_covid.ipynb",
      "provenance": [],
      "authorship_tag": "ABX9TyO1erCaaquQ6i2uxkxjUsQX",
      "include_colab_link": true
    },
    "kernelspec": {
      "name": "python3",
      "display_name": "Python 3"
    },
    "language_info": {
      "name": "python"
    }
  },
  "cells": [
    {
      "cell_type": "markdown",
      "metadata": {
        "id": "view-in-github",
        "colab_type": "text"
      },
      "source": [
        "<a href=\"https://colab.research.google.com/github/amankumar1906/Covid-Detection-using-CNN-and-Genetic-Algorithm/blob/main/testing_covid.ipynb\" target=\"_parent\"><img src=\"https://colab.research.google.com/assets/colab-badge.svg\" alt=\"Open In Colab\"/></a>"
      ]
    },
    {
      "cell_type": "code",
      "execution_count": null,
      "metadata": {
        "id": "XxGNnH8e1D7F"
      },
      "outputs": [],
      "source": [
        "from keras.models import load_model\n",
        "import numpy as np"
      ]
    },
    {
      "cell_type": "code",
      "source": [
        "from google.colab import drive\n",
        "drive.mount('/content/drive')"
      ],
      "metadata": {
        "colab": {
          "base_uri": "https://localhost:8080/"
        },
        "id": "udfVkXtlhB17",
        "outputId": "03e2f64d-a9b2-423e-9bec-2611baee6684"
      },
      "execution_count": null,
      "outputs": [
        {
          "output_type": "stream",
          "name": "stdout",
          "text": [
            "Mounted at /content/drive\n"
          ]
        }
      ]
    },
    {
      "cell_type": "code",
      "source": [
        "clf = load_model('/content/drive/MyDrive/itis91.h5') # Change this to the path of the model"
      ],
      "metadata": {
        "id": "WbPA-uiq1UYn"
      },
      "execution_count": null,
      "outputs": []
    },
    {
      "cell_type": "code",
      "source": [
        "import cv2\n",
        "img = cv2.imread('/content/drive/MyDrive/COVID-19_Radiography_Dataset/Viral Pneumonia/Viral Pneumonia-1002.png') # Change this to the path of the image\n",
        "\n",
        "img = cv2.resize(img, (180,180))\n",
        "\n",
        "img = cv2.cvtColor(img, cv2.COLOR_BGR2GRAY)\n",
        "img = np.expand_dims(img, 2)\n",
        "img = np.expand_dims(img, 0)"
      ],
      "metadata": {
        "id": "BnJTVUaY1SpP"
      },
      "execution_count": null,
      "outputs": []
    },
    {
      "cell_type": "code",
      "source": [
        "# {'covid': 0, 'normal': 1, 'viral': 2}\n",
        "pred = np.argmax(clf.predict(img))\n",
        "if pred==0:\n",
        "  print(\"Covid\")\n",
        "elif pred==1:\n",
        "  print(\"Normal\")\n",
        "else:\n",
        "  print(\"Viral Pneumonia\")"
      ],
      "metadata": {
        "colab": {
          "base_uri": "https://localhost:8080/"
        },
        "id": "5JKFEvhyhd3l",
        "outputId": "4bcd2f98-bd3c-449d-a567-0c778e4feeea"
      },
      "execution_count": null,
      "outputs": [
        {
          "output_type": "stream",
          "name": "stdout",
          "text": [
            "Viral Pneumonia\n"
          ]
        }
      ]
    }
  ]
}